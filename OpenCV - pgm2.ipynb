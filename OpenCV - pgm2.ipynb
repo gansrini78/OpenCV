{
 "cells": [
  {
   "cell_type": "code",
   "execution_count": 33,
   "metadata": {
    "collapsed": true
   },
   "outputs": [],
   "source": [
    "import cv2"
   ]
  },
  {
   "cell_type": "code",
   "execution_count": 34,
   "metadata": {
    "collapsed": false
   },
   "outputs": [],
   "source": [
    "img = cv2.imread('E:\\Git_stage\\w.jpg',cv2.IMREAD_COLOR)"
   ]
  },
  {
   "cell_type": "code",
   "execution_count": 35,
   "metadata": {
    "collapsed": false
   },
   "outputs": [
    {
     "data": {
      "text/plain": [
       "array([[[ 31,  27,  33],\n",
       "        [ 31,  27,  33],\n",
       "        [ 31,  27,  33],\n",
       "        ..., \n",
       "        [ 37,  33,  45],\n",
       "        [ 38,  34,  46],\n",
       "        [ 40,  36,  48]],\n",
       "\n",
       "       [[ 32,  28,  34],\n",
       "        [ 31,  27,  33],\n",
       "        [ 30,  26,  32],\n",
       "        ..., \n",
       "        [ 34,  30,  42],\n",
       "        [ 35,  31,  43],\n",
       "        [ 35,  31,  43]],\n",
       "\n",
       "       [[ 32,  30,  36],\n",
       "        [ 30,  28,  34],\n",
       "        [ 28,  26,  32],\n",
       "        ..., \n",
       "        [ 31,  27,  38],\n",
       "        [ 32,  28,  40],\n",
       "        [ 31,  27,  39]],\n",
       "\n",
       "       ..., \n",
       "       [[ 46,  54,  71],\n",
       "        [ 42,  50,  67],\n",
       "        [ 40,  48,  65],\n",
       "        ..., \n",
       "        [ 40,  62,  97],\n",
       "        [ 37,  60,  92],\n",
       "        [ 41,  64,  96]],\n",
       "\n",
       "       [[ 35,  45,  62],\n",
       "        [ 44,  54,  71],\n",
       "        [ 48,  58,  75],\n",
       "        ..., \n",
       "        [ 39,  64,  98],\n",
       "        [ 40,  65,  97],\n",
       "        [ 37,  62,  94]],\n",
       "\n",
       "       [[ 39,  49,  66],\n",
       "        [ 34,  44,  61],\n",
       "        [ 35,  45,  62],\n",
       "        ..., \n",
       "        [ 46,  71, 105],\n",
       "        [ 47,  72, 106],\n",
       "        [ 46,  71, 103]]], dtype=uint8)"
      ]
     },
     "execution_count": 35,
     "metadata": {},
     "output_type": "execute_result"
    }
   ],
   "source": [
    "cv2.rectangle(img,  (100,15), (200,150) , (0,0,255),5)\n"
   ]
  },
  {
   "cell_type": "code",
   "execution_count": 38,
   "metadata": {
    "collapsed": false
   },
   "outputs": [
    {
     "data": {
      "text/plain": [
       "array([[[ 31,  27,  33],\n",
       "        [ 31,  27,  33],\n",
       "        [ 31,  27,  33],\n",
       "        ..., \n",
       "        [ 37,  33,  45],\n",
       "        [ 38,  34,  46],\n",
       "        [ 40,  36,  48]],\n",
       "\n",
       "       [[ 32,  28,  34],\n",
       "        [ 31,  27,  33],\n",
       "        [ 30,  26,  32],\n",
       "        ..., \n",
       "        [ 34,  30,  42],\n",
       "        [ 35,  31,  43],\n",
       "        [ 35,  31,  43]],\n",
       "\n",
       "       [[ 32,  30,  36],\n",
       "        [ 30,  28,  34],\n",
       "        [ 28,  26,  32],\n",
       "        ..., \n",
       "        [ 31,  27,  38],\n",
       "        [ 32,  28,  40],\n",
       "        [ 31,  27,  39]],\n",
       "\n",
       "       ..., \n",
       "       [[ 46,  54,  71],\n",
       "        [ 42,  50,  67],\n",
       "        [ 40,  48,  65],\n",
       "        ..., \n",
       "        [ 40,  62,  97],\n",
       "        [ 37,  60,  92],\n",
       "        [ 41,  64,  96]],\n",
       "\n",
       "       [[ 35,  45,  62],\n",
       "        [ 44,  54,  71],\n",
       "        [ 48,  58,  75],\n",
       "        ..., \n",
       "        [ 39,  64,  98],\n",
       "        [ 40,  65,  97],\n",
       "        [ 37,  62,  94]],\n",
       "\n",
       "       [[ 39,  49,  66],\n",
       "        [ 34,  44,  61],\n",
       "        [ 35,  45,  62],\n",
       "        ..., \n",
       "        [ 46,  71, 105],\n",
       "        [ 47,  72, 106],\n",
       "        [ 46,  71, 103]]], dtype=uint8)"
      ]
     },
     "execution_count": 38,
     "metadata": {},
     "output_type": "execute_result"
    }
   ],
   "source": [
    "font = cv2.FONT_HERSHEY_SIMPLEX\n",
    "cv2.putText(img,'its a watch',(100,130), font,.75 ,(200,255,255),2,cv2.LINE_AA)"
   ]
  },
  {
   "cell_type": "code",
   "execution_count": 39,
   "metadata": {
    "collapsed": true
   },
   "outputs": [],
   "source": [
    "cv2.imshow('photo_frame1', img)\n",
    "cv2.waitKey(0)\n",
    "cv2.destroyAllWindows()"
   ]
  }
 ],
 "metadata": {
  "kernelspec": {
   "display_name": "Python 3",
   "language": "python",
   "name": "python3"
  },
  "language_info": {
   "codemirror_mode": {
    "name": "ipython",
    "version": 3
   },
   "file_extension": ".py",
   "mimetype": "text/x-python",
   "name": "python",
   "nbconvert_exporter": "python",
   "pygments_lexer": "ipython3",
   "version": "3.6.0"
  }
 },
 "nbformat": 4,
 "nbformat_minor": 2
}
